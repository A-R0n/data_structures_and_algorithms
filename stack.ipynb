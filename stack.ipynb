{
 "cells": [
  {
   "cell_type": "markdown",
   "id": "13ef4642-cc75-493c-9a6e-d1dbbe59bcce",
   "metadata": {},
   "source": [
    "A Stack is a linear data structure in which the insertion of a new element and removal of an existing element takes place at the same end represented as the top of the stack. "
   ]
  },
  {
   "cell_type": "code",
   "execution_count": 1,
   "id": "f44b5f96-5271-4a46-8b97-2fe31a1712cc",
   "metadata": {},
   "outputs": [],
   "source": [
    "## Parenthesis Checker\n",
    "## Check for balanced brackets in an expresssion (well-formedness)\n",
    "\n",
    "## The idea is to put all the opening brackets in the stack.\n",
    "## Whenever you hit a closing bracket, search if the top of the stack is the opening bracket of the same nature.\n",
    "## If this holds then pop the stack and continue the iteration.\n",
    "## In the end if the stack is empty, it means all brackets are balanced or well-formed.\n",
    "## Otherwise, they are not balanced.\n",
    "\n",
    "## Time Complexity -> O(N) -> Iterating over the file, as a string, of size N one time\n",
    "## Time Complexity -> O(1) -> for the stack\n",
    "\n",
    "## The list methods make it very easy to use a list as a stack,\n",
    "## where the last element added is the first element retrieved (“last-in, first-out”).\n",
    "## To add an item to the top of the stack, use append(). \n",
    "## To retrieve an item from the top of the stack, use pop() without an explicit index. "
   ]
  },
  {
   "cell_type": "code",
   "execution_count": 2,
   "id": "918cf2cd-81d8-4e31-88e7-4e314068d8a3",
   "metadata": {},
   "outputs": [],
   "source": [
    "## lets stringify a python file on my machine and implement a stack\n",
    "pto = '/Users/aaronestes/projects/yahoo_practice_api/yahoo-fantasy-bot/upload_player_news_sf.py'"
   ]
  },
  {
   "cell_type": "code",
   "execution_count": 3,
   "id": "f4a62b56-d57c-47f2-8772-3e9b25712891",
   "metadata": {},
   "outputs": [],
   "source": [
    "from typing import List\n",
    "\n",
    "data_structure_characters_open = [\"(\", \"{\", \"[\"]\n",
    "data_structure_characters_close = [\")\", \"}\", \"]\"]\n",
    "\n",
    "def is_stack_empty(stack: List) -> bool:\n",
    "    if not stack:\n",
    "        return True\n",
    "    return False\n",
    "\n",
    "def open_file(pto: str) -> str:\n",
    "    with open(pto) as f:\n",
    "        file = f.read()\n",
    "    return file\n",
    "\n",
    "## This is O(n) because we iterate through every character in the file\n",
    "def get_data_structure_characters(pto: str) -> str:\n",
    "    file = open_file(pto)\n",
    "    data_structure_characters = \"\"\n",
    "    for character in file:\n",
    "        if character in data_structure_characters_open or character in data_structure_characters_close:\n",
    "            data_structure_characters += character\n",
    "    return data_structure_characters\n",
    "\n",
    "## This is O(1) because all we are doing is adding elements to the top and retrieving them for comparison (LIFO)...\n",
    "## No matter how big the list gets\n",
    "def are_brackets_balanced_stack(chars: str) -> bool:\n",
    "    stack = []\n",
    "    for char in chars:\n",
    "        if char in data_structure_characters_open:\n",
    "            stack.append(char)\n",
    "        else:\n",
    "            if not stack:\n",
    "                print(f'not stack')\n",
    "                return False\n",
    "            current_char = stack.pop()\n",
    "            if current_char == '(':\n",
    "                if char != \")\":\n",
    "                    print(f'1')\n",
    "                    return False\n",
    "            if current_char == '{':\n",
    "                if char != \"}\":\n",
    "                    print(f'2')\n",
    "                    return False\n",
    "            if current_char == '[':\n",
    "                if char != \"]\":\n",
    "                    print(f'3')\n",
    "                    return False\n",
    "    if is_stack_empty(stack):\n",
    "        print(f'stack is empty')\n",
    "        return True\n",
    "    print(f'stack is not empty')\n",
    "    print(f'{stack[-1]} requires a companion bracket!')\n",
    "    return False"
   ]
  },
  {
   "cell_type": "code",
   "execution_count": 4,
   "id": "a585cc1b-dfb2-4ca3-b13e-ffca06ab6070",
   "metadata": {},
   "outputs": [],
   "source": [
    "chars = get_data_structure_characters(pto)"
   ]
  },
  {
   "cell_type": "code",
   "execution_count": 5,
   "id": "5b6952fe-70e9-4d12-940a-eb15e21f56cb",
   "metadata": {},
   "outputs": [
    {
     "data": {
      "text/plain": [
       "'()()()()[][]()()()({})({})()({})()()(()()()()[][]()()()()(())()([])()()()()()()()()[]()[]()(())()(())()()()[]()()()()()()()()({})({}{})({})()()()()()()()()[]({})({})()([])()()()()()()({})()[]()()()[]()()()()()()()()({})({})({})[(())][(())][()][(())]()[](())()()()()()(())()()[][]()(()())()()({})()()()()()()()()()'"
      ]
     },
     "execution_count": 5,
     "metadata": {},
     "output_type": "execute_result"
    }
   ],
   "source": [
    "chars"
   ]
  },
  {
   "cell_type": "code",
   "execution_count": 6,
   "id": "e47131c8-cff4-4d33-b3a9-53b8aeab6292",
   "metadata": {},
   "outputs": [
    {
     "name": "stdout",
     "output_type": "stream",
     "text": [
      "stack is not empty\n",
      "( requires a companion bracket!\n"
     ]
    }
   ],
   "source": [
    "areBracketsBalanced = are_brackets_balanced_stack(chars)"
   ]
  },
  {
   "cell_type": "code",
   "execution_count": 7,
   "id": "aa478b9e-6438-40d2-9c85-65dc9bcf9175",
   "metadata": {},
   "outputs": [
    {
     "data": {
      "text/plain": [
       "False"
      ]
     },
     "execution_count": 7,
     "metadata": {},
     "output_type": "execute_result"
    }
   ],
   "source": [
    "areBracketsBalanced"
   ]
  },
  {
   "cell_type": "code",
   "execution_count": null,
   "id": "f2ee2231-308a-4a52-a6b5-979d7885a6a6",
   "metadata": {},
   "outputs": [],
   "source": []
  }
 ],
 "metadata": {
  "kernelspec": {
   "display_name": "Python 3 (ipykernel)",
   "language": "python",
   "name": "python3"
  },
  "language_info": {
   "codemirror_mode": {
    "name": "ipython",
    "version": 3
   },
   "file_extension": ".py",
   "mimetype": "text/x-python",
   "name": "python",
   "nbconvert_exporter": "python",
   "pygments_lexer": "ipython3",
   "version": "3.12.0"
  }
 },
 "nbformat": 4,
 "nbformat_minor": 5
}
